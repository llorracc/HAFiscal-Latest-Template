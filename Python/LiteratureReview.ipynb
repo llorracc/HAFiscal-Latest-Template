{
 "cells": [
  {
   "cell_type": "markdown",
   "metadata": {},
   "source": [
    "# Epidemiology  of economic expectations \n",
    "\n",
    "\n",
    "     \"A very natural next step for economics is to maintain expectations in the strategic position they have come to occupy, but to build an empirically validated theory of how attention is in fact directed within a social system, and how expectations are, in fact, formed. \" \n",
    "   <cite data-cite=\"7250895/CWDQBMWJ\"></cite>\n",
    "   \n",
    "     \"While mass media play a major role in alerting individuals to the possibility of an innovation, it seems to be personal contact that is most relevant in leading to its adoption. Thus, the diffusion of an innovation becomes a process formally akin to the spread of an infectious disease.\"\n",
    "     \n",
    "   <cite data-cite=\"7250895/K9J44MXP\"></cite>\n",
    "   \n",
    "     \" If we want to know why an unusually large economic event happened, we need to list the seemingly unrelated narratives that all happened to be going viral at around the same time and affecting the economy in the same direction.”\n",
    "   <cite data-cite=\"7250895/MNZ8ABY9\"></cite>\n",
    "\n",
    "## Outline\n",
    "\n",
    "\n",
    "0. Motivation and Context\n",
    "\n",
    "  - Browning, Hansen and Heckman intro to \"Handbook of Macroeconomics\": <cite data-cite=\"7250895/I7RGYKLL\"></cite>\n",
    "      - The most universal lesson of microeconomics is that \"people are different in ways that importantly affect their economic behavior\"\n",
    "          - circs: wealth, income\n",
    "          - prefs: risk aversion, impatience\n",
    "      - Microfoundations of macro literature\n",
    "          - When micro heterogeneity in circs or prefs is matched, fundamental conclusions change\n",
    "              - Like, how do fiscal and monetary policy work\n",
    "      - Remaining kind of heterogeneity much less explored (until recently): in expectations/beliefs\n",
    "          - even though heterogeneity in beliefs is just as apparent in micro data as other kinds \n",
    "      - if expectations are heterogeneous, aggregate patterns depend on the distribution of expectations\n",
    "          - stock market expectations of people who will never own stock are not important\n",
    "          - housing market expectations of the _marginal_ participants (buyer, seller) set prices <cite data-cite=\"7250895/AJV8NGSC\"></cite>\n",
    "      - heterogenous expectations likely interact with other types of heterogeneity\n",
    "          - rich people do more consumption than poor people\n",
    "          - so, need to weight expectations by the degree to which the person's actions affect the outcome\n",
    "      - Existing literature on heterogeneity in expectations:\n",
    "          - Most commonly explored reasons for heterogeneity in expectations:\n",
    "              - information\n",
    "              - different updating (=\"learning\") process\n",
    "              - different initial beliefs (=\"priors\")\n",
    "              - different histories <cite data-cite=\"7250895/A3IZ6HHG\"></cite> \n",
    "              - costs of updating info $\\Rightarrow$ frictions, delays\n",
    "                  - even optimizing agents will happen to update at different times\n",
    "          - Epidemiology is different from all of these\n",
    "              - It's about how ideas _spread_\n",
    "      \n",
    "1. What insights can the epidemiological framework offer?\n",
    "    - Explains how people can have somewhat coherent beliefs about macroeconomy without PhD in macroeconomics\n",
    "        - ordinary people: read news media to hear what \"experts\" say\n",
    "        - population beliefs depend on \"infectiousness\" of experts' views\n",
    "        - Embeds RE model as the limit corresponding to \"infinitely instantly perfectly infectious\" beliefs\n",
    "        - Epi models slow down the spread so it is testable\n",
    "            - \"infectiousness\" matters\n",
    "    - how social network and media affect the spread of economic news <cite data-cite=\"7250895/WGA4WW7R\"></cite> <cite data-cite=\"7250895/I82U9UJI\"></cite>\n",
    "    - how policy communication makes its way to average economic agents making their decisions\n",
    "        - What should Fed governors, Treasury Secretaries, etc do \n",
    "  - and why it could be a useful tool, methodologically speaking\n",
    "    - if epi models are true, they have testable implications for cross-sectional distribution of expectations\n",
    "        - and implications for aggregate belief dynamics (and thus actual aggregate macro dynamics)\n",
    "    - goal: Reconcile micro/cross-section data with (appropriately weighted) aggregate dynamics \n",
    "    - goal: determine importance of social learning in structural models <cite data-cite=\"7250895/XPPGFL6U\"></cite>\n",
    "1. Motivating examples\n",
    "   - household expectations for macroeconomic environment, i.e. inflation <cite data-cite=\"7250895/7ID2DZ32\"></cite>  <cite data-cite=\"7250895/LVUIXKPH\"></cite> <cite data-cite=\"7250895/27IQQESW\"></cite>\n",
    "   - ponzi scheme and fraud <cite data-cite=\"7250895/A5MB3XSQ\"></cite>, <cite data-cite=\"7250895/X46RMRJG\"></cite>, <cite data-cite=\"7250895/LP6CJM23\"></cite>\n",
    "   - as a driver of finacial asset bubbles, especially some new class of assets, e.g. bitcoin. <cite data-cite=\"7250895/8KKWFFL6\"></cite>\n",
    "   - bank runs/spread of panic and fear \n",
    "       - Canonical models are basically timeless: run happens instantly <cite data-cite=\"7250895/6J9X633T\"></cite>\n",
    "       - Understanding process by which they happen over time means possibility of arresting them\n",
    "       - Financial crisis in the Great Recession has been described as \"giant extended bank run on financial sector\"\n",
    "   - housing prices <cite data-cite=\"7250895/XPPGFL6U\"></cite> <cite data-cite=\"7250895/AJV8NGSC\"></cite>\n",
    "   - stock investment <cite data-cite=\"7250895/TAMV9657\"></cite> \n",
    " \n",
    "1. Epidemiology model basics <cite data-cite=\"7250895/CFUXCD3W\"></cite> <cite data-cite=\"7250895/8G65EESF\"></cite>\n",
    "<cite data-cite=\"7250895/NA5PXZZ3\"></cite>\n",
    " - _ex ante_ homogeneous models\n",
    "    - Common source\n",
    "    - SIS and SIR\n",
    "    - SEIR\n",
    "    - Features of homogenous models \n",
    "       - simplicity due to independence assumptions \n",
    "       - easy to aggregate up to macro patterns and can be tested\n",
    "       - capture the dynamics \n",
    "  - _ex ante_ heterogeneous models (and consequences, if any)\n",
    "    - incorporates network structure <cite data-cite=\"7250895/Z7SW79RW\"></cite>\n",
    "        - \"superspreaders\"\n",
    "        - higher degree distributions lead to more \"infection\"\n",
    "        - transition probability is location-specific depending on the degree of the node\n",
    "      - interact with individual economic conditions \n",
    " - Economists' methodologies offer a lot of ways to improve standard epi models\n",
    "     - transmission/infection rate can be contingent on state variables\n",
    "     - optimizing behavior by agents (incentives to seek/avoid infection)\n",
    "     - much more sophisticated about causality, inference, etc\n",
    "         - possible that economists' ideas will infect the epidemiologists!\n",
    "    \n",
    "3. Potential areas where techniques could be applied\n",
    " - economic sentiment and confidence <cite data-cite=\"7250895/WPKPW2G7\"></cite> <cite data-cite=\"7250895/TAIP8R8T\"></cite> <cite data-cite=\"7250895/T4VZYJJG\"></cite>\n",
    " - economic narratives <cite data-cite=\"7250895/C6QSAT7D\"></cite> <cite data-cite=\"7250895/JYHSDB8E\"></cite> <cite data-cite=\"7250895/NB7EG6YP\"></cite>\n",
    " - spread of fake news and rumours <cite data-cite=\"7250895/NB7EG6YP\"></cite> <cite data-cite=\"7250895/U3CJRYGH\"></cite> \n",
    " - spread of default <cite data-cite=\"7250895/LASEQSSI\"></cite>\n",
    " - search-and-matching problems <cite data-cite=\"7250895/AJV8NGSC\"></cite>\n",
    " - diffusion of innovation <cite data-cite=\"7250895/K9J44MXP\"></cite>, <cite data-cite=\"7250895/57G4UR6W\"></cite>\n",
    " - communication, the role of opinion leaders <cite data-cite=\"7250895/SUJIHE88\"></cite>\n",
    " - fads and fashions: information cascade <cite data-cite=\"7250895/G8FKYD4F\"></cite>\n",
    " - viral marketing and viral narratives<cite data-cite=\"7250895/XT6NSHPA\"></cite><cite data-cite=\"7250895/D8I6QLX6\"></cite>\n",
    " \n",
    "4. Relation to \"agent-based\" modeling in macroeconomics\n",
    "    - Provides discipline on agents' actions/decisions   \n",
    "     - <cite data-cite=\"7250895/32NJ2CGE\"></cite>\n",
    "     - <cite data-cite=\"7250895/92LJ9PXL\"></cite>\n",
    "     - <cite data-cite=\"7250895/X49CS7KD\"></cite>\n",
    "     - <cite data-cite=\"7250895/FDX9D3K9\"></cite>\n",
    "     - In finance, <cite data-cite=\"7250895/6QXR6MMV\"></cite>, <cite data-cite=\"7250895/E4SGTXS8\"></cite>\n",
    "     - Both time-series and cross-sectional distribution properties\n",
    "     - Allow examination of \"off-equilirium\" behavior <cite data-cite=\"7250895/CWDQBMWJ\"></cite>  \n",
    "     \n",
    "5. Other toolboxes to use and promising directions of research \n",
    "  - NLP <cite data-cite=\"7250895/GCR9GKTE\"></cite> <cite data-cite=\"7250895/I82U9UJI\"></cite>\n",
    "    - counts of the word frequency \n",
    "      - use google searchs to predict flu trends: <cite data-cite=\"7250895/Z2W7RSNX\"></cite>\n",
    "    - \"sentiment analysis\" <cite data-cite=\"7250895/GKCMJD9I\"></cite>\n",
    "    - topical modelling \n",
    "    - literature on differential infectiousness of different emotions\n",
    "        - fear, anger, disgust more \"infectious\" than happiness, satisfaction\n",
    "        - e.g., could yield asymmetries between good and bad news\n",
    " \n",
    "  - Social network data sources <cite data-cite=\"7250895/L4SJK2W2\"></cite>\n",
    "    - how network friends affect economic expectations <cite data-cite=\"7250895/WGA4WW7R\"></cite><cite data-cite=\"7250895/Z2Q3NK2Y\"></cite>\n",
    "        - Potential application:\n",
    "            - Greater geographical conectedness $\\Rightarrow$ fewer local boom/bust cycles, more aggregate ones\n",
    "    - social connectedness and aggregate economic outcomes\n",
    "    \n",
    "  - Cognitive and neuroscience approach\n",
    "    - \"microfoundation\" for results about differential infectiousness\n",
    "        - example: FMRIs show brain's \"fear/disgust\" center more easily activated than pleasure/reward center"
   ]
  },
  {
   "cell_type": "markdown",
   "metadata": {},
   "source": [
    "## Reference \n",
    "\n",
    "<div class=\"cite2c-biblio\"></div>"
   ]
  }
 ],
 "metadata": {
  "cite2c": {
   "citations": {
    "7250895/27IQQESW": {
     "DOI": "10.1111/jmcb.12043",
     "URL": "https://onlinelibrary.wiley.com/doi/abs/10.1111/jmcb.12043",
     "abstract": "This paper examines the nexus between news coverage on inflation and households’ inflation expectations. In doing so, we test the epidemiological foundations of the sticky information model (Carroll ). We use both aggregate and household-level data from the Survey Research Center at the University of Michigan. We highlight a fundamental disconnection among news on inflation, consumers’ frequency of expectation updating, and the accuracy of their expectations. Our evidence provides at best weak support to the epidemiological framework, as most of the consumers who update their expectations do not revise them toward professional forecasters’ mean forecast.",
     "accessed": {
      "day": 1,
      "month": 2,
      "year": 2020
     },
     "author": [
      {
       "family": "Pfajfar",
       "given": "Damjan"
      },
      {
       "family": "Santoro",
       "given": "Emiliano"
      }
     ],
     "container-title": "Journal of Money, Credit and Banking",
     "id": "7250895/27IQQESW",
     "issue": "6",
     "issued": {
      "year": 2013
     },
     "language": "en",
     "page": "1045-1067",
     "page-first": "1045",
     "title": "News on Inflation and the Epidemiology of Inflation Expectations",
     "type": "article-journal",
     "volume": "45"
    },
    "7250895/32NJ2CGE": {
     "DOI": "10.1257/aer.98.2.246",
     "URL": "https://www.aeaweb.org/articles?id=10.1257/aer.98.2.246",
     "accessed": {
      "day": 14,
      "month": 2,
      "year": 2020
     },
     "author": [
      {
       "family": "LeBaron",
       "given": "Blake"
      },
      {
       "family": "Tesfatsion",
       "given": "Leigh"
      }
     ],
     "container-title": "American Economic Review",
     "id": "7250895/32NJ2CGE",
     "issue": "2",
     "issued": {
      "month": 5,
      "year": 2008
     },
     "language": "en",
     "page": "246-250",
     "page-first": "246",
     "title": "Modeling Macroeconomies as Open-Ended Dynamic Systems of Interacting Agents",
     "type": "article-journal",
     "volume": "98"
    },
    "7250895/57G4UR6W": {
     "ISBN": "978-0-7432-5823-4",
     "abstract": "Now in its fifth edition, Diffusion of Innovations is a classic work on the spread of new ideas.In this renowned book, Everett M. Rogers, professor and chair of the Department of Communication & Journalism at the University of New Mexico, explains how new ideas spread via communication channels over time. Such innovations are initially perceived as uncertain and even risky. To overcome this uncertainty, most people seek out others like themselves who have already adopted the new idea. Thus the diffusion process consists of a few individuals who first adopt an innovation, then spread the word among their circle of acquaintances—a process which typically takes months or years. But there are exceptions: use of the Internet in the 1990s, for example, may have spread more rapidly than any other innovation in the history of humankind. Furthermore, the Internet is changing the very nature of diffusion by decreasing the importance of physical distance between people. The fifth edition addresses the spread of the Internet, and how it has transformed the way human beings communicate and adopt new ideas.",
     "author": [
      {
       "family": "Rogers",
       "given": "Everett M."
      }
     ],
     "id": "7250895/57G4UR6W",
     "issued": {
      "day": 16,
      "month": 8,
      "year": 2003
     },
     "language": "en",
     "note": "Google-Books-ID: 9U1K5LjUOwEC",
     "number-of-pages": "577",
     "publisher": "Simon and Schuster",
     "title": "Diffusion of Innovations, 5th Edition",
     "type": "book"
    },
    "7250895/6J9X633T": {
     "URL": "https://www.jstor.org/stable/1837095",
     "abstract": "This paper shows that bank deposit contracts can provide allocations superior to those of exchange markets, offering an explanation of how banks subject to runs can attract deposits. Investors face privately observed risks which lead to a demand for liquidity. Traditional demand deposit contracts which provide liquidity have multiple equilibria, one of which is a bank run. Bank runs in the model cause real economic damage, rather than simply reflecting other problems. Contracts which can prevent runs are studied, and the analysis shows that there are circumstances when government provision of deposit insurance can produce superior contracts.",
     "accessed": {
      "day": 29,
      "month": 2,
      "year": 2020
     },
     "archive": "JSTOR",
     "author": [
      {
       "family": "Diamond",
       "given": "Douglas W."
      },
      {
       "family": "Dybvig",
       "given": "Philip H."
      }
     ],
     "container-title": "Journal of Political Economy",
     "id": "7250895/6J9X633T",
     "issue": "3",
     "issued": {
      "year": 1983
     },
     "note": "Publisher: University of Chicago Press",
     "page": "401-419",
     "page-first": "401",
     "title": "Bank Runs, Deposit Insurance, and Liquidity",
     "type": "article-journal",
     "volume": "91"
    },
    "7250895/6QXR6MMV": {
     "DOI": "10.1016/S0165-1889(99)00022-6",
     "URL": "http://www.sciencedirect.com/science/article/pii/S0165188999000226",
     "abstract": "The use of computer simulated markets with individual adaptive agents in finance is a new, but growing field. This paper explores some of the early works in the area concentrating on a set of some of the earliest papers. Six papers are summarized in detail, along with references to many other pieces of this wide ranging research area. It also covers many of the questions that new researchers will face when getting into the field, and hopefully can serve as a kind of minitutorial for those interested in getting started.",
     "accessed": {
      "day": 1,
      "month": 2,
      "year": 2020
     },
     "author": [
      {
       "family": "LeBaron",
       "given": "Blake"
      }
     ],
     "container-title": "Journal of Economic Dynamics and Control",
     "container-title-short": "Journal of Economic Dynamics and Control",
     "id": "7250895/6QXR6MMV",
     "issue": "5",
     "issued": {
      "day": 1,
      "month": 6,
      "year": 2000
     },
     "journalAbbreviation": "Journal of Economic Dynamics and Control",
     "language": "en",
     "page": "679-702",
     "page-first": "679",
     "shortTitle": "Agent-based computational finance",
     "title": "Agent-based computational finance: Suggested readings and early research",
     "title-short": "Agent-based computational finance",
     "type": "article-journal",
     "volume": "24"
    },
    "7250895/7ID2DZ32": {
     "abstract": "Macroeconomists have long emphasized the importance of expectations in determining macroeconomic outcomes, and an enormous theoretical literature has developed examining many models of expectations formation. This paper proposes a new approach, based on epidemiological models, in which only a small set of agents (professional forecasters) formulate their own expectations, which then spread through the population via the news media in a manner analogous to the spread of a disease. The paper shows that the very simplest epidemiological model, called the ‘common source’ model, does a good job of explaining the dynamics of inﬂation and unemployment expectations, and more complicated epidemiological models produce dynamics similar to those that emerge from the common source model.",
     "author": [
      {
       "family": "Carroll",
       "given": "Christopher D"
      }
     ],
     "id": "7250895/7ID2DZ32",
     "language": "en",
     "page": "26",
     "page-first": "26",
     "title": "The Epidemiology of Macroeconomic Expectations",
     "type": "article-journal"
    },
    "7250895/8G65EESF": {
     "DOI": "10.1098/rspa.1927.0118",
     "URL": "https://royalsocietypublishing.org/doi/10.1098/rspa.1927.0118",
     "abstract": "(1) One of the most striking features in the study of epidemics is the difficulty of finding a causal factor which appears to be adequate to account for the magnitude of the frequent epidemics of disease which visit almost every population. It was with a view to obtaining more insight regarding the effects of the various factors which govern the spread of contagious epidemics that the present investigation was undertaken. Reference may here be made to the work of Ross and Hudson (1915-17) in which the same problem is attacked. The problem is here carried to a further stage, and it is considered from a point of view which is in one sense more general. The problem may be summarised as follows: One (or more) infected person is introduced into a community of individuals, more or less susceptible to the disease in question. The disease spreads from the affected to the unaffected by contact infection. Each infected person runs through the course of his sickness, and finally is removed from the number of those who are sick, by recovery or by death. The chances of recovery or death vary from day to day during the course of his illness. The chances that the affected may convey infection to the unaffected are likewise dependent upon the stage of the sickness. As the epidemic spreads, the number of unaffected members of the community becomes reduced. Since the course of an epidemic is short compared with the life of an individual, the population may be considered as remaining constant, except in as far as it is modified by deaths due to the epidemic disease itself. In the course of time the epidemic may come to an end. One of the most important probems in epidemiology is to ascertain whether this termination occurs only when no susceptible individuals are left, or whether the interplay of the various factors of infectivity, recovery and mortality, may result in termination, whilst many susceptible individuals are still present in the unaffected population. It is difficult to treat this problem in its most general aspect. In the present communication discussion will be limited to the case in which all members of the community are initially equally susceptible to the disease, and it will be further assumed that complete immunity is conferred by a single infection.",
     "accessed": {
      "day": 13,
      "month": 2,
      "year": 2020
     },
     "author": [
      {
       "family": "Kermack",
       "given": "William Ogilvy"
      },
      {
       "family": "McKendrick",
       "given": "A. G."
      },
      {
       "family": "Walker",
       "given": "Gilbert Thomas"
      }
     ],
     "container-title": "Proceedings of the Royal Society of London. Series A, Containing Papers of a Mathematical and Physical Character",
     "container-title-short": "Proceedings of the Royal Society of London. Series A, Containing Papers of a Mathematical and Physical Character",
     "id": "7250895/8G65EESF",
     "issue": "772",
     "issued": {
      "day": 1,
      "month": 8,
      "year": 1927
     },
     "journalAbbreviation": "Proceedings of the Royal Society of London. Series A, Containing Papers of a Mathematical and Physical Character",
     "page": "700-721",
     "page-first": "700",
     "title": "A contribution to the mathematical theory of epidemics",
     "type": "article-journal",
     "volume": "115"
    },
    "7250895/8KKWFFL6": {
     "ISBN": "978-0-230-36535-3",
     "abstract": "This highly anticipated sixth edition has been revised to include an in-depth analysis of the first global crisis of the twenty-first century. Providing a scholarly and entertaining account of such topics as the history of crises, speculative manias and Lehman Brothers, this book has been hailed as &#39;a true classic...both timely and timeless.&#39;",
     "author": [
      {
       "family": "Kindleberger",
       "given": "Charles P."
      },
      {
       "family": "Aliber",
       "given": "Robert Z."
      }
     ],
     "id": "7250895/8KKWFFL6",
     "issued": {
      "day": 9,
      "month": 8,
      "year": 2011
     },
     "language": "en",
     "number-of-pages": "366",
     "publisher": "Palgrave Macmillan",
     "shortTitle": "Manias, Panics and Crashes",
     "title": "Manias, Panics and Crashes: A History of Financial Crises, Sixth Edition",
     "title-short": "Manias, Panics and Crashes",
     "type": "book"
    },
    "7250895/92LJ9PXL": {
     "URL": "http://www.sciencedirect.com/science/article/pii/S1574002118300017",
     "abstract": "This chapter surveys heterogeneous agent models with rational expectations that deliver a finite number of heterogeneous agents as an equilibrium outcomes. Instead of having a distribution with infinite support to follow, this class of models endogenously generates a finite number of agents as an equilibrium outcome. As a consequence, many of the additional tools and techniques developed in the DSGE literature with a representative agent can easily be imported in this class of models, allowing these models to be brought to the data with advanced econometric techniques. No-trade, small-heterogeneity and truncation methods are presented. The derivation of optimal policies is presented in these environments. Finally, the chapter discusses the relation with other heterogeneous agent models that don't rely on rational expectations, namely agent-based models.",
     "accessed": {
      "day": 14,
      "month": 2,
      "year": 2020
     },
     "author": [
      {
       "family": "Ragot",
       "given": "Xavier"
      }
     ],
     "collection-title": "Handbook of Computational Economics",
     "container-title": "Handbook of Computational Economics",
     "editor": [
      {
       "family": "Hommes",
       "given": "Cars"
      },
      {
       "family": "LeBaron",
       "given": "Blake"
      }
     ],
     "id": "7250895/92LJ9PXL",
     "issued": {
      "day": 1,
      "month": 1,
      "year": 2018
     },
     "language": "en",
     "note": "DOI: 10.1016/bs.hescom.2018.02.001",
     "page": "215-253",
     "page-first": "215",
     "publisher": "Elsevier",
     "shortTitle": "Chapter 4 - Heterogeneous Agents in the Macroeconomy",
     "title": "Chapter 4 - Heterogeneous Agents in the Macroeconomy: Reduced-Heterogeneity Representations",
     "title-short": "Chapter 4 - Heterogeneous Agents in the Macroeconomy",
     "type": "chapter",
     "volume": "4"
    },
    "7250895/99UNHEC2": {
     "ISBN": "978-1-4209-6101-0",
     "abstract": "First published in 1841, this history chronicles the popular delusions throughout world history. It is divided into three broad categories, including 'National Delusions, ' 'Peculiar Follies, ' and 'Philosophical Delusions.' The author discusses and usually debunks a wide variety of subjects and events. These include economic bubbles like the tulip craze of Holland in 1637 or the Mississippi Company financial bubble of 1719; alchemy, which was of particular interest to individuals who wanted to create gold out of lesser-valued materials; the Crusades, also known as the Middle Ages mania; witch hunts, the persecution of thousands of innocent victims that arose from either supernatural ill fortune or neighbors with a score to settle; duels; the political and religious influence on beards; and several others. This work, with all of its interesting observations, is an entertaining and insightful book that explores the phenomenon of crowd mentality. This edition is printed on premium acid-free paper.",
     "author": [
      {
       "family": "MacKay",
       "given": "Charles"
      }
     ],
     "id": "7250895/99UNHEC2",
     "issued": {
      "month": 2,
      "year": 2019
     },
     "language": "en",
     "note": "Google-Books-ID: 06hgwgEACAAJ",
     "number-of-pages": "530",
     "publisher": "Digireads.com",
     "title": "Extraordinary Popular Delusions and the Madness of Crowds",
     "type": "book"
    },
    "7250895/9TCQJPHZ": {
     "URL": "https://dl.acm.org/doi/abs/10.1145/1232722.1232727",
     "accessed": {
      "day": 14,
      "month": 2,
      "year": 2020
     },
     "id": "7250895/9TCQJPHZ",
     "title": "The dynamics of viral marketing | ACM Transactions on the Web (TWEB)",
     "type": "webpage"
    },
    "7250895/A3IZ6HHG": {
     "URL": "http://www.sciencedirect.com/science/article/pii/S1574002118300078",
     "abstract": "This chapter provides an overview of recent models of heterogeneous expectations in macroeconomics. We begin with a description of household behavior in an environment with features common to many models in asset pricing, monetary theory, and New Keynesian macroeconomics. We demonstrate issues facing modelers when agents are boundedly rational and have (possibly) heterogeneous beliefs about the future evolution of endogenous state variables. These issues can be summed up in three broad categories: boundedly rational decision making, aggregation of decision rules, and the appropriate equilibrium concept. After having laid out the basic underlying theories we present several applications that illustrate the non-trivial implications of heterogeneous expectations for economic outcomes. Our applications include asset-pricing and bubbles, trading inefficiencies in monetary economies, and monetary policy design.",
     "accessed": {
      "day": 14,
      "month": 2,
      "year": 2020
     },
     "author": [
      {
       "family": "Branch",
       "given": "William A."
      },
      {
       "family": "McGough",
       "given": "Bruce"
      }
     ],
     "collection-title": "Handbook of Computational Economics",
     "container-title": "Handbook of Computational Economics",
     "editor": [
      {
       "family": "Hommes",
       "given": "Cars"
      },
      {
       "family": "LeBaron",
       "given": "Blake"
      }
     ],
     "id": "7250895/A3IZ6HHG",
     "issued": {
      "day": 1,
      "month": 1,
      "year": 2018
     },
     "language": "en",
     "note": "DOI: 10.1016/bs.hescom.2018.03.001",
     "page": "3-62",
     "page-first": "3",
     "publisher": "Elsevier",
     "title": "Chapter 1 - Heterogeneous Expectations and Micro-Foundations in Macroeconomics✶✶We are grateful to the editors, Cars Hommes and Blake LeBaron, as well as Guillaume Rocheteau and three anonymous referees for many helpful comments.",
     "type": "chapter",
     "volume": "4"
    },
    "7250895/A5MB3XSQ": {
     "ISBN": "978-0-691-17302-3",
     "abstract": "Why the free-market system encourages so much trickery even as it creates so much goodEver since Adam Smith, the central teaching of economics has been that free markets provide us with material well-being, as if by an invisible hand. In Phishing for Phools, Nobel Prize–winning economists George Akerlof and Robert Shiller deliver a fundamental challenge to this insight, arguing that markets harm as well as help us. As long as there is profit to be made, sellers will systematically exploit our psychological weaknesses and our ignorance through manipulation and deception. Rather than being essentially benign and always creating the greater good, markets are inherently filled with tricks and traps and will \"phish\" us as \"phools.\"Phishing for Phools therefore strikes a radically new direction in economics, based on the intuitive idea that markets both give and take away. Akerlof and Shiller bring this idea to life through dozens of stories that show how phishing affects everyone, in almost every walk of life. We spend our money up to the limit, and then worry about how to pay the next month's bills. The financial system soars, then crashes. We are attracted, more than we know, by advertising. Our political system is distorted by money. We pay too much for gym memberships, cars, houses, and credit cards. Drug companies ingeniously market pharmaceuticals that do us little good, and sometimes are downright dangerous.Phishing for Phools explores the central role of manipulation and deception in fascinating detail in each of these areas and many more. It thereby explains a paradox: why, at a time when we are better off than ever before in history, all too many of us are leading lives of quiet desperation. At the same time, the book tells stories of individuals who have stood against economic trickery—and how it can be reduced through greater knowledge, reform, and regulation.",
     "author": [
      {
       "family": "Akerlof",
       "given": "George A."
      },
      {
       "family": "Shiller",
       "given": "Robert J."
      }
     ],
     "id": "7250895/A5MB3XSQ",
     "issued": {
      "day": 16,
      "month": 8,
      "year": 2016
     },
     "language": "en",
     "number-of-pages": "290",
     "publisher": "Princeton University Press",
     "shortTitle": "Phishing for Phools",
     "title": "Phishing for Phools: The Economics of Manipulation and Deception",
     "title-short": "Phishing for Phools",
     "type": "book"
    },
    "7250895/AEQSI8EX": {
     "URL": "https://www.restud.com/paper/germs-social-networks-and-growth/",
     "accessed": {
      "day": 25,
      "month": 2,
      "year": 2020
     },
     "id": "7250895/AEQSI8EX",
     "title": "Germs, Social Networks and Growth | The Review of Economic Studies",
     "type": "article"
    },
    "7250895/AJV8NGSC": {
     "DOI": "10.1257/aer.99.2.406",
     "URL": "https://www.aeaweb.org/articles?id=10.1257/aer.99.2.406",
     "accessed": {
      "day": 15,
      "month": 2,
      "year": 2020
     },
     "author": [
      {
       "family": "Piazzesi",
       "given": "Monika"
      },
      {
       "family": "Schneider",
       "given": "Martin"
      }
     ],
     "container-title": "American Economic Review",
     "id": "7250895/AJV8NGSC",
     "issue": "2",
     "issued": {
      "month": 5,
      "year": 2009
     },
     "language": "en",
     "page": "406-411",
     "page-first": "406",
     "shortTitle": "Momentum Traders in the Housing Market",
     "title": "Momentum Traders in the Housing Market: Survey Evidence and a Search Model",
     "title-short": "Momentum Traders in the Housing Market",
     "type": "article-journal",
     "volume": "99"
    },
    "7250895/C6QSAT7D": {
     "DOI": "10.1257/aer.107.4.967",
     "URL": "https://www.aeaweb.org/articles?id=10.1257/aer.107.4.967",
     "abstract": "This address considers the epidemiology of narratives relevant to economic fluctuations. The human brain has always been highly tuned toward narratives, whether factual or not, to justify ongoing actions, even such basic actions as spending and investing. Stories motivate and connect activities to deeply felt values and needs. Narratives \"go viral\" and spread far, even worldwide, with economic impact. The 1920-1921 Depression, the Great Depression of the 1930s, the so-called Great Recession of 2007-2009, and the contentious political-economic situation of today are considered as the results of the popular narratives of their respective times. Though these narratives are deeply human phenomena that are difficult to study in a scientific manner, quantitative analysis may help us gain a better understanding of these epidemics in the future.",
     "accessed": {
      "day": 13,
      "month": 2,
      "year": 2020
     },
     "author": [
      {
       "family": "Shiller",
       "given": "Robert J."
      }
     ],
     "container-title": "American Economic Review",
     "id": "7250895/C6QSAT7D",
     "issue": "4",
     "issued": {
      "month": 4,
      "year": 2017
     },
     "language": "en",
     "page": "967-1004",
     "page-first": "967",
     "title": "Narrative Economics",
     "type": "article-journal",
     "volume": "107"
    },
    "7250895/CFUXCD3W": {
     "ISBN": "978-0-19-854040-3",
     "abstract": "This book deals with infectious diseases -- viral, bacterial, protozoan and helminth -- in terms of the dynamics of their interaction with host populations. The book combines mathematical models with extensive use of epidemiological and other data. This analytic framework is highly useful for the evaluation of public health strategies aimed at controlling or eradicating particular infections. Such a framework is increasingly important in light of the widespread concern for primary health care programs aimed at such diseases as measles, malaria, river blindness, sleeping sickness, and schistosomiasis, and the advent of AIDS/HIV and other emerging viruses. Throughout the book, the mathematics is used as a tool for thinking clearly about fundamental and applied problems having to do with infectious diseases. The book is divided into two parts, one dealing with microparasites (viruses, bacteria and protozoans) and the other with macroparasites (helminths and parasitic arthropods). Each part begins with simple models, developed in a biologically intuitive way, and then goes on to develop more complicated and realistic models as tools for public health planning. The book synthesizes previous work in this rapidly growing field (much of which is scattered between the ecological and the medical literature) with a good deal of new material.",
     "author": [
      {
       "family": "Anderson",
       "given": "Roy M."
      },
      {
       "family": "Anderson",
       "given": "B."
      },
      {
       "family": "May",
       "given": "Robert M."
      }
     ],
     "id": "7250895/CFUXCD3W",
     "issued": {
      "day": 27,
      "month": 8,
      "year": 1992
     },
     "language": "en",
     "number-of-pages": "772",
     "publisher": "OUP Oxford",
     "shortTitle": "Infectious Diseases of Humans",
     "title": "Infectious Diseases of Humans: Dynamics and Control",
     "title-short": "Infectious Diseases of Humans",
     "type": "book"
    },
    "7250895/CWDQBMWJ": {
     "URL": "https://www.jstor.org/stable/1809901",
     "accessed": {
      "day": 14,
      "month": 2,
      "year": 2020
     },
     "archive": "JSTOR",
     "author": [
      {
       "family": "Simon",
       "given": "Herbert A."
      }
     ],
     "container-title": "The American Economic Review",
     "id": "7250895/CWDQBMWJ",
     "issue": "3",
     "issued": {
      "year": 1959
     },
     "page": "253-283",
     "page-first": "253",
     "title": "Theories of Decision-Making in Economics and Behavioral Science",
     "type": "article-journal",
     "volume": "49"
    },
    "7250895/D8I6QLX6": {
     "abstract": "Internet memes are phenomena that rapidly gain popularity or notoriety on the Internet. Often, modiﬁcations or spoofs add to the proﬁle of the original idea thus turning it into a phenomenon that transgresses social and cultural boundaries. It is commonly assumed that Internet memes spread virally but scientiﬁc evidence as to this assumption is scarce. In this paper, we address this issue and investigate the epidemic dynamics of 150 famous Internet memes. Our analysis is based on time series data that were collected from Google Insights, Delicious, Digg, and StumbleUpon. We ﬁnd that differential equation models from mathematical epidemiology as well as simple log-normal distributions give a good account of the growth and decline of memes. We discuss the role of log-normal distributions in modeling Internet phenomena and touch on practical implications of our ﬁndings.",
     "author": [
      {
       "family": "Bauckhage",
       "given": "Christian"
      }
     ],
     "id": "7250895/D8I6QLX6",
     "issued": {
      "year": 2010
     },
     "language": "en",
     "page": "8",
     "page-first": "8",
     "title": "Insights into Internet Memes",
     "type": "article-journal"
    },
    "7250895/E4SGTXS8": {
     "DOI": "10.1016/S0165-1889(98)00081-5",
     "URL": "http://www.sciencedirect.com/science/article/pii/S0165188998000815",
     "abstract": "This paper presents results from an experimental computer simulated stock market. In this market artificial intelligence algorithms take on the role of traders. They make predictions about the future, and buy and sell stock as indicated by their expectations of future risk and return. Prices are set endogenously to clear the market. Time series from this market are analyzed from the standpoint of well-known empirical features in real markets. The simulated market is able to replicate several of these phenomenon, including fundamental and technical predictability, volatility persistence, and leptokurtosis. Moreover, agent behavior is shown to be consistent with these features, in that they condition on the variables that are found to be significant in the time series tests. Agents are also able to collectively learn a homogeneous rational expectations equilibrium for certain parameters giving both time series and individual forecast values consistent with the equilibrium parameter values.",
     "accessed": {
      "day": 14,
      "month": 2,
      "year": 2020
     },
     "author": [
      {
       "family": "LeBaron",
       "given": "Blake"
      },
      {
       "family": "Arthur",
       "given": "W. Brian"
      },
      {
       "family": "Palmer",
       "given": "Richard"
      }
     ],
     "container-title": "Journal of Economic Dynamics and Control",
     "container-title-short": "Journal of Economic Dynamics and Control",
     "id": "7250895/E4SGTXS8",
     "issue": "9",
     "issued": {
      "day": 1,
      "month": 9,
      "year": 1999
     },
     "journalAbbreviation": "Journal of Economic Dynamics and Control",
     "language": "en",
     "page": "1487-1516",
     "page-first": "1487",
     "title": "Time series properties of an artificial stock market",
     "type": "article-journal",
     "volume": "23"
    },
    "7250895/FCXE7QZ4": {
     "URL": "http://www.nber.org/papers/w22258",
     "abstract": "We document that the recent house price experiences within an individual’s social network affect her perceptions of the attractiveness of property investments, and through this channel have large effects on her housing market activity. Our data combine anonymized social network information from Facebook with housing transaction data and a survey. We first show that in the survey, individuals whose geographically-distant friends experienced larger recent house price increases consider local property a more attractive investment, with bigger effects for individuals who regularly discuss such investments with their friends. Based on these findings, we introduce a new methodology to document large effects of housing market expectations on individual housing investment decisions and aggregate housing market outcomes. Our approach exploits plausibly-exogenous variation in the recent house price experiences of individuals’ geographically-distant friends as shifters of those individuals’ local housing market expectations. Individuals whose friends experienced a 5 percentage points larger house price increase over the previous 24 months (i) are 3.1 percentage points more likely to transition from renting to owning over a two-year period, (ii) buy a 1.7 percent larger house, (iii) pay 3.3 percent more for a given house, and (iv) make a 7% larger downpayment. Similarly, when homeowners’ friends experience less positive house price changes, these homeowners are more likely to become renters, and more likely to sell their property at a lower price. We also find that when individuals observe a higher dispersion of house price experiences across their friends, this has a negative effect on their housing investments. Finally, we show that these individual-level responses aggregate up to affect county-level house prices and trading volume. Our findings suggest that the house price experiences of geographically-distant friends might provide a valid instrument for local house price growth.",
     "accessed": {
      "day": 6,
      "month": 2,
      "year": 2020
     },
     "author": [
      {
       "family": "Bailey",
       "given": "Michael"
      },
      {
       "family": "Cao",
       "given": "Ruiqing"
      },
      {
       "family": "Kuchler",
       "given": "Theresa"
      },
      {
       "family": "Stroebel",
       "given": "Johannes"
      }
     ],
     "genre": "Working Paper",
     "id": "7250895/FCXE7QZ4",
     "issued": {
      "month": 5,
      "year": 2016
     },
     "note": "DOI: 10.3386/w22258",
     "number": "22258",
     "publisher": "National Bureau of Economic Research",
     "title": "Social Networks and Housing Markets",
     "type": "report"
    },
    "7250895/FDX9D3K9": {
     "DOI": "10.1007/s00191-018-0557-5",
     "URL": "https://doi.org/10.1007/s00191-018-0557-5",
     "abstract": "Macroeconomic modelling has been under intense scrutiny since the Great Financial Crisis, when serious shortcomings were exposed in the methodology used to understand the economy as a whole. Criticism has been levelled at the assumptions employed in the dominant models, particularly that economic agents are homogenous and optimising and that the economy is equilibrating. In a related paper (Haldane and Turrell Oxford Rev Econ Polic 34(1–2):219–251 2018), we argue that an interdisciplinary approach to modelling in macroeconomics is beneficial. Here we focus on what one such approach - agent-based modelling, which has been extensively used across a wide range of disciplines - could do for macroeconomics. Agent-based models are complementary to existing approaches to macroeconomics and are particularly well-suited to answering questions where complexity, heterogeneity, networks, and heuristics play an important role.",
     "accessed": {
      "day": 1,
      "month": 2,
      "year": 2020
     },
     "author": [
      {
       "family": "Haldane",
       "given": "Andrew G."
      },
      {
       "family": "Turrell",
       "given": "Arthur E."
      }
     ],
     "container-title": "Journal of Evolutionary Economics",
     "container-title-short": "J Evol Econ",
     "id": "7250895/FDX9D3K9",
     "issue": "1",
     "issued": {
      "day": 1,
      "month": 3,
      "year": 2019
     },
     "journalAbbreviation": "J Evol Econ",
     "language": "en",
     "page": "39-66",
     "page-first": "39",
     "shortTitle": "Drawing on different disciplines",
     "title": "Drawing on different disciplines: macroeconomic agent-based models",
     "title-short": "Drawing on different disciplines",
     "type": "article-journal",
     "volume": "29"
    },
    "7250895/G8FKYD4F": {
     "URL": "https://www.jstor.org/stable/2138632",
     "abstract": "An informational cascade occurs when it is optimal for an individual, having observed the actions of those ahead of him, to follow the behavior of the preceding individual without regard to his own information. We argue that localized conformity of behavior and the fragility of mass behaviors can be explained by informational cascades.",
     "accessed": {
      "day": 14,
      "month": 2,
      "year": 2020
     },
     "archive": "JSTOR",
     "author": [
      {
       "family": "Bikhchandani",
       "given": "Sushil"
      },
      {
       "family": "Hirshleifer",
       "given": "David"
      },
      {
       "family": "Welch",
       "given": "Ivo"
      }
     ],
     "container-title": "Journal of Political Economy",
     "id": "7250895/G8FKYD4F",
     "issue": "5",
     "issued": {
      "year": 1992
     },
     "page": "992-1026",
     "page-first": "992",
     "title": "A Theory of Fads, Fashion, Custom, and Cultural Change as Informational Cascades",
     "type": "article-journal",
     "volume": "100"
    },
    "7250895/GCR9GKTE": {
     "DOI": "10.1257/jel.20181020",
     "URL": "https://www.aeaweb.org/articles?id=10.1257/jel.20181020",
     "abstract": "An ever-increasing share of human interaction, communication, and culture is recorded as digital text. We provide an introduction to the use of text as an input to economic research. We discuss the features that make text different from other forms of data, offer a practical overview of relevant statistical methods, and survey a variety of applications.",
     "accessed": {
      "day": 13,
      "month": 2,
      "year": 2020
     },
     "author": [
      {
       "family": "Gentzkow",
       "given": "Matthew"
      },
      {
       "family": "Kelly",
       "given": "Bryan"
      },
      {
       "family": "Taddy",
       "given": "Matt"
      }
     ],
     "container-title": "Journal of Economic Literature",
     "id": "7250895/GCR9GKTE",
     "issue": "3",
     "issued": {
      "month": 9,
      "year": 2019
     },
     "language": "en",
     "page": "535-574",
     "page-first": "535",
     "title": "Text as Data",
     "type": "article-journal",
     "volume": "57"
    },
    "7250895/GKCMJD9I": {
     "author": [
      {
       "family": "Tetlock",
       "given": "Paul C"
      }
     ],
     "container-title": "The Journal of finance",
     "id": "7250895/GKCMJD9I",
     "issue": "3",
     "issued": {
      "year": 2007
     },
     "page": "1139–1168",
     "page-first": "1139",
     "title": "Giving content to investor sentiment: The role of media in the stock market",
     "type": "article-journal",
     "volume": "62"
    },
    "7250895/I7RGYKLL": {
     "URL": "http://www.sciencedirect.com/science/article/pii/S1574004899010113",
     "abstract": "Dynamic general equilibrium models are required to evaluate policies applied at the national level. To use these models to make quantitative forecasts requires knowledge of an extensive array of parameter values for the economy at large. This essay describes the parameters required for different economic models, assesses the discordance between the macromodels used in policy evaluation and the microeconomic models used to generate the empirical evidence. For concreteness, we focus on two general equilibrium models: the stochastic growth model extended to include some forms of heterogeneity and the overlapping generations model enriched to accommodate human capital formation.",
     "accessed": {
      "day": 29,
      "month": 2,
      "year": 2020
     },
     "author": [
      {
       "family": "Browning",
       "given": "Martin"
      },
      {
       "family": "Hansen",
       "given": "Lars Peter"
      },
      {
       "family": "Heckman",
       "given": "James J."
      }
     ],
     "container-title": "Handbook of Macroeconomics",
     "id": "7250895/I7RGYKLL",
     "issued": {
      "day": 1,
      "month": 1,
      "year": 1999
     },
     "language": "en",
     "note": "DOI: 10.1016/S1574-0048(99)01011-3",
     "page": "543-633",
     "page-first": "543",
     "publisher": "Elsevier",
     "title": "Chapter 8 Micro data and general equilibrium models",
     "type": "chapter",
     "volume": "1"
    },
    "7250895/I82U9UJI": {
     "DOI": "10.1111/jofi.12852",
     "URL": "https://onlinelibrary.wiley.com/doi/abs/10.1111/jofi.12852",
     "abstract": "We study sources of investor disagreement using sentiment of investors from a social media investing platform, combined with information on the users' investment approaches (e.g., technical, fundamental). We examine how much of overall disagreement is driven by different information sets versus differential interpretation of information by studying disagreement within and across investment approaches. Overall disagreement is evenly split between both sources of disagreement, but within-group disagreement is more tightly related to trading volume than cross-group disagreement. Although both sources of disagreement are important, our findings suggest that information differences are more important for trading than differences across market approaches.",
     "accessed": {
      "day": 15,
      "month": 2,
      "year": 2020
     },
     "author": [
      {
       "family": "Cookson",
       "given": "J. Anthony"
      },
      {
       "family": "Niessner",
       "given": "Marina"
      }
     ],
     "container-title": "The Journal of Finance",
     "id": "7250895/I82U9UJI",
     "issue": "1",
     "issued": {
      "year": 2020
     },
     "language": "en",
     "page": "173-228",
     "page-first": "173",
     "shortTitle": "Why Don't We Agree?",
     "title": "Why Don't We Agree? Evidence from a Social Network of Investors",
     "title-short": "Why Don't We Agree?",
     "type": "article-journal",
     "volume": "75"
    },
    "7250895/JYHSDB8E": {
     "ISBN": "978-0-691-19136-2",
     "abstract": "A new, evolutionary explanation of markets and investor behaviorHalf of all Americans have money in the stock market, yet economists can’t agree on whether investors and markets are rational and efficient, as modern financial theory assumes, or irrational and inefficient, as behavioral economists believe. The debate is one of the biggest in economics, and the value or futility of investment management and financial regulation hangs on the answer. In this groundbreaking book, Andrew Lo transforms the debate with a powerful new framework in which rationality and irrationality coexist—the Adaptive Markets Hypothesis. Drawing on psychology, evolutionary biology, neuroscience, artificial intelligence, and other fields, Adaptive Markets shows that the theory of market efficiency is incomplete. When markets are unstable, investors react instinctively, creating inefficiencies for others to exploit. Lo’s new paradigm explains how financial evolution shapes behavior and markets at the speed of thought—a fact revealed by swings between stability and crisis, profit and loss, and innovation and regulation. An ambitious new answer to fundamental questions about economics and investing, Adaptive Markets is essential reading for anyone who wants to understand how markets really work.",
     "author": [
      {
       "family": "Lo",
       "given": "Andrew W."
      }
     ],
     "id": "7250895/JYHSDB8E",
     "issued": {
      "day": 14,
      "month": 5,
      "year": 2019
     },
     "language": "en",
     "note": "Google-Books-ID: Q4d7DwAAQBAJ",
     "number-of-pages": "502",
     "publisher": "Princeton University Press",
     "shortTitle": "Adaptive Markets",
     "title": "Adaptive Markets: Financial Evolution at the Speed of Thought",
     "title-short": "Adaptive Markets",
     "type": "book"
    },
    "7250895/K9J44MXP": {
     "URL": "https://www.jstor.org/stable/1823650",
     "accessed": {
      "day": 25,
      "month": 2,
      "year": 2020
     },
     "archive": "JSTOR",
     "author": [
      {
       "family": "Arrow",
       "given": "Kenneth J."
      }
     ],
     "container-title": "The American Economic Review",
     "id": "7250895/K9J44MXP",
     "issue": "2",
     "issued": {
      "year": 1969
     },
     "page": "29-35",
     "page-first": "29",
     "title": "Classificatory Notes on the Production and Transmission of Technological Knowledge",
     "type": "article-journal",
     "volume": "59"
    },
    "7250895/KLP5H9DB": {
     "URL": "https://academic.oup.com/rfs/article-abstract/33/1/395/5423193?redirectedFrom=fulltext",
     "accessed": {
      "day": 15,
      "month": 2,
      "year": 2020
     },
     "id": "7250895/KLP5H9DB",
     "title": "Socioeconomic Status and Macroeconomic Expectations | The Review of Financial Studies | Oxford Academic",
     "type": "article"
    },
    "7250895/L4SJK2W2": {
     "ISBN": "978-1-4008-3399-3",
     "abstract": "Networks of relationships help determine the careers that people choose, the jobs they obtain, the products they buy, and how they vote. The many aspects of our lives that are governed by social networks make it critical to understand how they impact behavior, which network structures are likely to emerge in a society, and why we organize ourselves as we do. In Social and Economic Networks, Matthew Jackson offers a comprehensive introduction to social and economic networks, drawing on the latest findings in economics, sociology, computer science, physics, and mathematics. He provides empirical background on networks and the regularities that they exhibit, and discusses random graph-based models and strategic models of network formation. He helps readers to understand behavior in networked societies, with a detailed analysis of learning and diffusion in networks, decision making by individuals who are influenced by their social neighbors, game theory and markets on networks, and a host of related subjects. Jackson also describes the varied statistical and modeling techniques used to analyze social networks. Each chapter includes exercises to aid students in their analysis of how networks function. This book is an indispensable resource for students and researchers in economics, mathematics, physics, sociology, and business.",
     "author": [
      {
       "family": "Jackson",
       "given": "Matthew O."
      }
     ],
     "id": "7250895/L4SJK2W2",
     "issued": {
      "day": 1,
      "month": 11,
      "year": 2010
     },
     "language": "en",
     "note": "Google-Books-ID: rFzHinVAq7gC",
     "number-of-pages": "519",
     "publisher": "Princeton University Press",
     "title": "Social and Economic Networks",
     "type": "book"
    },
    "7250895/LASEQSSI": {
     "DOI": "10.1108/IJHMA-05-2017-0047",
     "URL": "https://doi.org/10.1108/IJHMA-05-2017-0047",
     "abstract": "Purpose This paper aims to introduce mathematical models to capture the spreading of epidemics to explain the expansion of mortgage default events in the USA. Design/methodology/approach The authors use the state of infectiousness and death to represent the subsequent steps of payment elinquency and default, respectively. As the local economic structure influences regional unemployment, which is a strong driver of mortgage default, the authors model interdependencies of regional mortgage default rates through employment conditions and vicinity. Findings Based on a large sample between 2000 and 2014 of loan-level data, the estimation of key parameters of the model is proposed. The model’s forecast accuracy shows an above-average performance compared to well-known approaches such as linear regression or logit models. Originality/value The key findings may be useful in understanding the dynamics of mortgage defaults and its spatial spreading.",
     "accessed": {
      "day": 15,
      "month": 2,
      "year": 2020
     },
     "author": [
      {
       "family": "Schweikert",
       "given": "Jochen"
      },
      {
       "family": "Höchstötter",
       "given": "Markus"
      }
     ],
     "container-title": "International Journal of Housing Markets and Analysis",
     "id": "7250895/LASEQSSI",
     "issue": "1",
     "issued": {
      "day": 1,
      "month": 1,
      "year": 2019
     },
     "page": "74-93",
     "page-first": "74",
     "title": "Epidemiological spreading of mortgage default",
     "type": "article-journal",
     "volume": "12"
    },
    "7250895/LGW8RX2T": {
     "URL": "https://onlinelibrary.wiley.com/doi/abs/10.1111/j.1540-6261.2007.01232.x",
     "accessed": {
      "day": 15,
      "month": 2,
      "year": 2020
     },
     "id": "7250895/LGW8RX2T",
     "title": "Giving Content to Investor Sentiment: The Role of Media in the Stock Market - TETLOCK - 2007 - The Journal of Finance - Wiley Online Library",
     "type": "webpage"
    },
    "7250895/LP6CJM23": {
     "DOI": "10.1111/jofi.12822",
     "URL": "https://www.onlinelibrary.wiley.com/doi/abs/10.1111/jofi.12822",
     "abstract": "A unique data set from a large Ponzi scheme allows me to study word-of-mouth diffusion of investment information. Investors could join the scheme only by invitation from an existing member, which allows me to observe how the idea spreads from one person to the next based on inviter-invitee relationships. I find that the observed social network has a scale-free connectivity structure, which significantly facilitates the diffusion of the investment idea and contributes to the growth and survival of the socially spreading Ponzi scheme. I further find that investors invest more if their inviter has comparatively higher age, education, and income.",
     "accessed": {
      "day": 3,
      "month": 3,
      "year": 2020
     },
     "author": [
      {
       "family": "Rantala",
       "given": "Ville"
      }
     ],
     "container-title": "The Journal of Finance",
     "id": "7250895/LP6CJM23",
     "issue": "5",
     "issued": {
      "year": 2019
     },
     "language": "en",
     "note": "_eprint: https://onlinelibrary.wiley.com/doi/pdf/10.1111/jofi.12822",
     "page": "2349-2389",
     "page-first": "2349",
     "shortTitle": "How Do Investment Ideas Spread through Social Interaction?",
     "title": "How Do Investment Ideas Spread through Social Interaction? Evidence from a Ponzi Scheme",
     "title-short": "How Do Investment Ideas Spread through Social Interaction?",
     "type": "article-journal",
     "volume": "74"
    },
    "7250895/LVUIXKPH": {
     "DOI": "10.1111/j.1468-0084.2009.00560.x",
     "URL": "https://onlinelibrary.wiley.com/doi/abs/10.1111/j.1468-0084.2009.00560.x",
     "abstract": "We estimate and compare two models in which households periodically update their expectations. The first model assumes that households update their expectations towards survey measures. In the second model, households update their expectations towards rational expectations (RE). While the literature has used these specifications indistinguishably, we argue that there are important differences. The two models imply different updating probabilities, and the data seem to prefer the second one. We then analyse the properties of both models in terms of mean expectations, median expectations, and a measure of disagreement among households. The model with periodical updates towards RE also seems to fit the data better along these dimensions.",
     "accessed": {
      "day": 1,
      "month": 2,
      "year": 2020
     },
     "author": [
      {
       "family": "Nunes",
       "given": "Ricardo"
      }
     ],
     "container-title": "Oxford Bulletin of Economics and Statistics",
     "id": "7250895/LVUIXKPH",
     "issue": "5",
     "issued": {
      "year": 2009
     },
     "language": "en",
     "page": "643-657",
     "page-first": "643",
     "title": "On the Epidemiological Microfoundations of Sticky Information*",
     "type": "article-journal",
     "volume": "71"
    },
    "7250895/MNZ8ABY9": {
     "ISBN": "978-0-691-18229-2",
     "abstract": "From Nobel Prize–winning economist and New York Times bestselling author Robert Shiller, a new way to think about how popular stories help drive economic eventsIn a world in which internet troll farms attempt to influence foreign elections, can we afford to ignore the power of viral stories to affect economies? In this groundbreaking book, Nobel Prize–winning economist and New York Times bestselling author Robert Shiller offers a new way to think about the economy and economic change. Using a rich array of historical examples and data, Shiller argues that studying popular stories that affect individual and collective economic behavior—what he calls \"narrative economics\"—has the potential to vastly improve our ability to predict, prepare for, and lessen the damage of financial crises, recessions, depressions, and other major economic events.Spread through the public in the form of popular stories, ideas can go viral and move markets—whether it's the belief that tech stocks can only go up, that housing prices never fall, or that some firms are too big to fail. Whether true or false, stories like these—transmitted by word of mouth, by the news media, and increasingly by social media—drive the economy by driving our decisions about how and where to invest, how much to spend and save, and more. But despite the obvious importance of such stories, most economists have paid little attention to them. Narrative Economics sets out to change that by laying the foundation for a way of understanding how stories help propel economic events that have had led to war, mass unemployment, and increased inequality.The stories people tell—about economic confidence or panic, housing booms, the American dream, or Bitcoin—affect economic outcomes. Narrative Economics explains how we can begin to take these stories seriously. It may be Robert Shiller's most important book to date.",
     "author": [
      {
       "family": "Shiller",
       "given": "Robert J."
      }
     ],
     "id": "7250895/MNZ8ABY9",
     "issued": {
      "month": 10,
      "year": 2019
     },
     "language": "en",
     "note": "Google-Books-ID: HciXDwAAQBAJ",
     "number-of-pages": "400",
     "publisher": "Princeton University Press",
     "shortTitle": "Narrative Economics",
     "title": "Narrative Economics: How Stories Go Viral and Drive Major Economic Events",
     "title-short": "Narrative Economics",
     "type": "book"
    },
    "7250895/NA5PXZZ3": {
     "DOI": "10.1137/S0036144500371907",
     "URL": "http://epubs.siam.org/doi/10.1137/S0036144500371907",
     "accessed": {
      "day": 13,
      "month": 2,
      "year": 2020
     },
     "author": [
      {
       "family": "Hethcote",
       "given": "Herbert W."
      }
     ],
     "container-title": "SIAM Review",
     "container-title-short": "SIAM Rev.",
     "id": "7250895/NA5PXZZ3",
     "issue": "4",
     "issued": {
      "year": 2000
     },
     "journalAbbreviation": "SIAM Rev.",
     "language": "en",
     "page": "599-653",
     "page-first": "599",
     "title": "The Mathematics of Infectious Diseases",
     "type": "article-journal",
     "volume": "42"
    },
    "7250895/NB7EG6YP": {
     "DOI": "10.1126/science.aap9559",
     "URL": "https://science.sciencemag.org/content/359/6380/1146",
     "abstract": "Lies spread faster than the truth\nThere is worldwide concern over false news and the possibility that it can influence political, economic, and social well-being. To understand how false news spreads, Vosoughi et al. used a data set of rumor cascades on Twitter from 2006 to 2017. About 126,000 rumors were spread by ∼3 million people. False news reached more people than the truth; the top 1% of false news cascades diffused to between 1000 and 100,000 people, whereas the truth rarely diffused to more than 1000 people. Falsehood also diffused faster than the truth. The degree of novelty and the emotional reactions of recipients may be responsible for the differences observed.\nScience, this issue p. 1146\nWe investigated the differential diffusion of all of the verified true and false news stories distributed on Twitter from 2006 to 2017. The data comprise ~126,000 stories tweeted by ~3 million people more than 4.5 million times. We classified news as true or false using information from six independent fact-checking organizations that exhibited 95 to 98% agreement on the classifications. Falsehood diffused significantly farther, faster, deeper, and more broadly than the truth in all categories of information, and the effects were more pronounced for false political news than for false news about terrorism, natural disasters, science, urban legends, or financial information. We found that false news was more novel than true news, which suggests that people were more likely to share novel information. Whereas false stories inspired fear, disgust, and surprise in replies, true stories inspired anticipation, sadness, joy, and trust. Contrary to conventional wisdom, robots accelerated the spread of true and false news at the same rate, implying that false news spreads more than the truth because humans, not robots, are more likely to spread it.\nA large-scale analysis of tweets reveals that false rumors spread further and faster than the truth.\nA large-scale analysis of tweets reveals that false rumors spread further and faster than the truth.",
     "accessed": {
      "day": 7,
      "month": 2,
      "year": 2020
     },
     "author": [
      {
       "family": "Vosoughi",
       "given": "Soroush"
      },
      {
       "family": "Roy",
       "given": "Deb"
      },
      {
       "family": "Aral",
       "given": "Sinan"
      }
     ],
     "container-title": "Science",
     "id": "7250895/NB7EG6YP",
     "issue": "6380",
     "issued": {
      "day": 9,
      "month": 3,
      "year": 2018
     },
     "language": "en",
     "note": "PMID: 29590045",
     "page": "1146-1151",
     "page-first": "1146",
     "title": "The spread of true and false news online",
     "type": "article-journal",
     "volume": "359"
    },
    "7250895/RT2NMQFY": {
     "URL": "https://dl.acm.org/doi/abs/10.1145/1232722.1232727",
     "accessed": {
      "day": 14,
      "month": 2,
      "year": 2020
     },
     "id": "7250895/RT2NMQFY",
     "title": "The dynamics of viral marketing | ACM Transactions on the Web (TWEB)",
     "type": "article"
    },
    "7250895/S75HURDA": {
     "URL": "https://www.aaai.org/ocs/index.php/%20ICWSM/ICWSM11/paper/viewFile/2757/3304",
     "accessed": {
      "day": 6,
      "month": 2,
      "year": 2020
     },
     "id": "7250895/S75HURDA",
     "title": "Bauckhage - 2010 - Insights into Internet Memes.pdf",
     "type": "article"
    },
    "7250895/SUJIHE88": {
     "DOI": "10.1287/mksc.1100.0566",
     "URL": "https://pubsonline.informs.org/doi/abs/10.1287/mksc.1100.0566",
     "abstract": "We study how opinion leadership and social contagion within social networks affect the adoption of a new product. In contrast to earlier studies, we find evidence of contagion operating over network ties, even after controlling for marketing effort and arbitrary systemwide changes. More importantly, we also find that the amount of contagion is moderated by both the recipients' perception of their opinion leadership and the sources' volume of product usage. The other key finding is that sociometric and self-reported measures of leadership are weakly correlated and associated with different kinds of adoption-related behaviors, which suggests that they probably capture different constructs. We discuss the implications of these novel findings for diffusion theory and research and for marketing practice.",
     "accessed": {
      "day": 26,
      "month": 2,
      "year": 2020
     },
     "author": [
      {
       "family": "Iyengar",
       "given": "Raghuram"
      },
      {
       "family": "Van den Bulte",
       "given": "Christophe"
      },
      {
       "family": "Valente",
       "given": "Thomas W."
      }
     ],
     "container-title": "Marketing Science",
     "container-title-short": "Marketing Science",
     "id": "7250895/SUJIHE88",
     "issue": "2",
     "issued": {
      "day": 10,
      "month": 12,
      "year": 2010
     },
     "journalAbbreviation": "Marketing Science",
     "note": "Publisher: INFORMS",
     "page": "195-212",
     "page-first": "195",
     "title": "Opinion Leadership and Social Contagion in New Product Diffusion",
     "type": "article-journal",
     "volume": "30"
    },
    "7250895/T4VZYJJG": {
     "URL": "https://papers.ssrn.com/abstract=2620828",
     "abstract": "The well-documented rise in political polarization among the U.S. electorate over the past 20 years has been accompanied by a substantial increase in the effect of partisan bias on survey-based measures of economic expectations. Individuals have a more optimistic view on future economic conditions when they are more closely affiliated with the party that controls the White House, and this tendency has increased significantly over time. Individuals report a large shift in economic expectations based on partisan affiliation after the 2008 and 2016 elections, but administrative data on spending shows no effect of these shifts on actual household spending.",
     "accessed": {
      "day": 15,
      "month": 2,
      "year": 2020
     },
     "author": [
      {
       "family": "Mian",
       "given": "Atif R."
      },
      {
       "family": "Sufi",
       "given": "Amir"
      },
      {
       "family": "Khoshkhou",
       "given": "Nasim"
      }
     ],
     "event-place": "Rochester, NY",
     "genre": "SSRN Scholarly Paper",
     "id": "7250895/T4VZYJJG",
     "issued": {
      "day": 4,
      "month": 4,
      "year": 2018
     },
     "language": "en",
     "number": "ID 2620828",
     "publisher": "Social Science Research Network",
     "publisher-place": "Rochester, NY",
     "title": "Partisan Bias, Economic Expectations, and Household Spending",
     "type": "report"
    },
    "7250895/TAIP8R8T": {
     "DOI": "10.1111/ecoj.12605",
     "URL": "https://onlinelibrary.wiley.com/doi/abs/10.1111/ecoj.12605",
     "abstract": "We examine whether sentiment influences aggregate demand by studying the relationship between the Michigan Survey expectations concerning national output growth and future economic activity at the state level. We instrument for local sentiments with political outcomes, positing that agents in states with a higher share of congressmen from the political party of the sitting President will be more optimistic. This instrument is strong in the first stage, and our results confirm a positive relationship between sentiments and future state economic activity that is robust to a battery of sensitivity tests.",
     "accessed": {
      "day": 15,
      "month": 2,
      "year": 2020
     },
     "author": [
      {
       "family": "Benhabib",
       "given": "Jess"
      },
      {
       "family": "Spiegel",
       "given": "Mark M."
      }
     ],
     "container-title": "The Economic Journal",
     "id": "7250895/TAIP8R8T",
     "issue": "n/a",
     "language": "en",
     "shortTitle": "Sentiments and Economic Activity",
     "title": "Sentiments and Economic Activity: Evidence from US States",
     "title-short": "Sentiments and Economic Activity",
     "type": "article-journal",
     "volume": "n/a"
    },
    "7250895/TAMV9657": {
     "DOI": "10.1093/rfs/hhm079",
     "URL": "https://academic.oup.com/rfs/article/21/2/785/1607197",
     "abstract": "Abstract.  We test and confirm the hypothesis that individual investors are net buyers of attention-grabbing stocks, e.g., stocks in the news, stocks experienci",
     "accessed": {
      "day": 15,
      "month": 2,
      "year": 2020
     },
     "author": [
      {
       "family": "Barber",
       "given": "Brad M."
      },
      {
       "family": "Odean",
       "given": "Terrance"
      }
     ],
     "container-title": "The Review of Financial Studies",
     "container-title-short": "Rev Financ Stud",
     "id": "7250895/TAMV9657",
     "issue": "2",
     "issued": {
      "day": 1,
      "month": 4,
      "year": 2008
     },
     "journalAbbreviation": "Rev Financ Stud",
     "language": "en",
     "page": "785-818",
     "page-first": "785",
     "shortTitle": "All That Glitters",
     "title": "All That Glitters: The Effect of Attention and News on the Buying Behavior of Individual and Institutional Investors",
     "title-short": "All That Glitters",
     "type": "article-journal",
     "volume": "21"
    },
    "7250895/U3CJRYGH": {
     "URL": "https://kopernio.com/viewer?doi=10.2307/2982521&token=WzE3ODU0MjYsIjEwLjIzMDcvMjk4MjUyMSJd.APj1DSbuSQxSjjFoTAb0WjMNQwk",
     "abstract": "One-click access to PDF of Epidemics and Rumours: A Survey published in Journal of the Royal Statistical Society Series A (General)",
     "accessed": {
      "day": 6,
      "month": 2,
      "year": 2020
     },
     "author": [
      {
       "family": "Dietz",
       "given": "K."
      }
     ],
     "id": "7250895/U3CJRYGH",
     "language": "en",
     "shortTitle": "Epidemics and Rumours",
     "title": "Epidemics and Rumours: A Survey | Kopernio",
     "title-short": "Epidemics and Rumours",
     "type": "webpage"
    },
    "7250895/WGA4WW7R": {
     "DOI": "10.1086/700073",
     "URL": "https://www.journals.uchicago.edu/doi/abs/10.1086/700073",
     "abstract": "We show how data from online social networking services can help researchers better understand the effects of social interactions on economic decision making. We combine anonymized data from Facebook, the largest online social network, with housing transaction data and explore both the structure and the effects of social networks. Individuals whose geographically distant friends experienced larger recent house price increases are more likely to transition from renting to owning. They also buy larger houses and pay more for a given house. Survey data show that these relationships are driven by the effects of social interactions on individuals’ housing market expectations.",
     "accessed": {
      "day": 14,
      "month": 2,
      "year": 2020
     },
     "author": [
      {
       "family": "Bailey",
       "given": "Michael"
      },
      {
       "family": "Cao",
       "given": "Ruiqing"
      },
      {
       "family": "Kuchler",
       "given": "Theresa"
      },
      {
       "family": "Stroebel",
       "given": "Johannes"
      }
     ],
     "container-title": "Journal of Political Economy",
     "container-title-short": "Journal of Political Economy",
     "id": "7250895/WGA4WW7R",
     "issue": "6",
     "issued": {
      "day": 1,
      "month": 12,
      "year": 2018
     },
     "journalAbbreviation": "Journal of Political Economy",
     "page": "2224-2276",
     "page-first": "2224",
     "shortTitle": "The Economic Effects of Social Networks",
     "title": "The Economic Effects of Social Networks: Evidence from the Housing Market",
     "title-short": "The Economic Effects of Social Networks",
     "type": "article-journal",
     "volume": "126"
    },
    "7250895/WPKPW2G7": {
     "URL": "https://www.jstor.org/stable/2117779",
     "accessed": {
      "day": 15,
      "month": 2,
      "year": 2020
     },
     "archive": "JSTOR",
     "author": [
      {
       "family": "Carroll",
       "given": "Christopher D."
      },
      {
       "family": "Fuhrer",
       "given": "Jeffrey C."
      },
      {
       "family": "Wilcox",
       "given": "David W."
      }
     ],
     "container-title": "The American Economic Review",
     "id": "7250895/WPKPW2G7",
     "issue": "5",
     "issued": {
      "year": 1994
     },
     "page": "1397-1408",
     "page-first": "1397",
     "shortTitle": "Does Consumer Sentiment Forecast Household Spending?",
     "title": "Does Consumer Sentiment Forecast Household Spending? If So, Why?",
     "title-short": "Does Consumer Sentiment Forecast Household Spending?",
     "type": "article-journal",
     "volume": "84"
    },
    "7250895/X46RMRJG": {
     "author": [
      {
       "family": "Mackay",
       "given": "Charles"
      }
     ],
     "id": "7250895/X46RMRJG",
     "issued": {
      "year": 1852
     },
     "language": "en",
     "note": "Google-Books-ID: JhU3AQAAMAAJ",
     "number-of-pages": "330",
     "publisher": "Office of National illustrated library",
     "title": "Memoirs of Extraordinary Popular Delusions and the Madness of Crowds",
     "type": "book"
    },
    "7250895/X49CS7KD": {
     "ISBN": "978-0-08-045987-5",
     "abstract": "The explosive growth in computational power over the past several decades offers new tools and opportunities for economists. This handbook volume surveys recent research on Agent-based Computational Economics (ACE), the computational study of economic processes modeled as dynamic systems of interacting agents. Empirical referents for \"agents\" in ACE models can range from individuals or social groups with learning capabilities to physical world features with no cognitive function. Topics covered include: learning; empirical validation; network economics; social dynamics; financial markets; innovation and technological change; organizations; market design; automated markets and trading agents; political economy; social-ecological systems; computational laboratory development; and general methodological issues.*Every volume contains contributions from leading researchers*Each Handbook presents an accurate, self-contained survey of a particular topic *The series provides comprehensive and accessible surveys",
     "author": [
      {
       "family": "Tesfatsion",
       "given": "Leigh"
      },
      {
       "family": "Judd",
       "given": "Kenneth L."
      }
     ],
     "id": "7250895/X49CS7KD",
     "issued": {
      "day": 15,
      "month": 5,
      "year": 2006
     },
     "language": "en",
     "note": "Google-Books-ID: Na5J44IBaHkC",
     "number-of-pages": "905",
     "publisher": "Elsevier",
     "shortTitle": "Handbook of Computational Economics",
     "title": "Handbook of Computational Economics: Agent-Based Computational Economics",
     "title-short": "Handbook of Computational Economics",
     "type": "book"
    },
    "7250895/XPPGFL6U": {
     "DOI": "10.1086/686732",
     "URL": "https://www.journals.uchicago.edu/doi/abs/10.1086/686732",
     "abstract": "Some booms in housing prices are followed by busts. Others are not. It is generally difficult to find observable fundamentals that are useful for predicting whether a boom will turn into a bust or not. We develop a model consistent with these observations. Agents have heterogeneous expectations about long-run fundamentals but change their views because of “social dynamics.” Agents with tighter priors are more likely to convert others to their beliefs. Boom-bust episodes typically occur when skeptical agents happen to be correct. The booms that are not followed by busts typically occur when optimistic agents happen to be correct.",
     "accessed": {
      "day": 15,
      "month": 2,
      "year": 2020
     },
     "author": [
      {
       "family": "Burnside",
       "given": "Craig"
      },
      {
       "family": "Eichenbaum",
       "given": "Martin"
      },
      {
       "family": "Rebelo",
       "given": "Sergio"
      }
     ],
     "container-title": "Journal of Political Economy",
     "container-title-short": "Journal of Political Economy",
     "id": "7250895/XPPGFL6U",
     "issue": "4",
     "issued": {
      "day": 1,
      "month": 8,
      "year": 2016
     },
     "journalAbbreviation": "Journal of Political Economy",
     "page": "1088-1147",
     "page-first": "1088",
     "title": "Understanding Booms and Busts in Housing Markets",
     "type": "article-journal",
     "volume": "124"
    },
    "7250895/XT6NSHPA": {
     "author": [
      {
       "family": "Leskovec",
       "given": "Jure"
      },
      {
       "family": "Adamic",
       "given": "Lada A"
      },
      {
       "family": "Huberman",
       "given": "Bernardo A"
      }
     ],
     "container-title": "ACM Transactions on the Web (TWEB)",
     "id": "7250895/XT6NSHPA",
     "issue": "1",
     "issued": {
      "year": 2007
     },
     "page": "5–es",
     "page-first": "5",
     "title": "The dynamics of viral marketing",
     "type": "article-journal",
     "volume": "1"
    },
    "7250895/Z2Q3NK2Y": {
     "DOI": "10.1257/jep.32.3.259",
     "URL": "https://www.aeaweb.org/articles?id=10.1257/jep.32.3.259",
     "abstract": "Social networks can shape many aspects of social and economic activity: migration and trade, job-seeking, innovation, consumer preferences and sentiment, public health, social mobility, and more. In turn, social networks themselves are associated with geographic proximity, historical ties, political boundaries, and other factors. Traditionally, the unavailability of large-scale and representative data on social connectedness between individuals or geographic regions has posed a challenge for empirical research on social networks. More recently, a body \nof such research has begun to emerge using data on social connectedness from online social networking services such as Facebook, LinkedIn, and Twitter. To date, most of these research projects have been built on anonymized administrative microdata from Facebook, typically by working with coauthor teams that include Facebook employees. However, there is an \ninherent limit to the number of researchers that will be able to work with social network data through such collaborations. In this paper, we therefore introduce a new measure of social connectedness at the US county level. Our Social Connectedness Index is based on friendship links on Facebook, the global online social networking service. Specifically, the Social Connectedness Index corresponds to the relative frequency of Facebook friendship links between every county-pair in the United States, and between every US county and every foreign\n country. Given Facebook's scale as well as the relative representativeness of Facebook's user body, these data provide the first comprehensive measure of friendship networks at a national level.",
     "accessed": {
      "day": 14,
      "month": 2,
      "year": 2020
     },
     "author": [
      {
       "family": "Bailey",
       "given": "Michael"
      },
      {
       "family": "Cao",
       "given": "Rachel"
      },
      {
       "family": "Kuchler",
       "given": "Theresa"
      },
      {
       "family": "Stroebel",
       "given": "Johannes"
      },
      {
       "family": "Wong",
       "given": "Arlene"
      }
     ],
     "container-title": "Journal of Economic Perspectives",
     "id": "7250895/Z2Q3NK2Y",
     "issue": "3",
     "issued": {
      "month": 8,
      "year": 2018
     },
     "language": "en",
     "page": "259-280",
     "page-first": "259",
     "shortTitle": "Social Connectedness",
     "title": "Social Connectedness: Measurement, Determinants, and Effects",
     "title-short": "Social Connectedness",
     "type": "article-journal",
     "volume": "32"
    },
    "7250895/Z2W7RSNX": {
     "DOI": "10.1080/01621459.2012.713876",
     "URL": "https://doi.org/10.1080/01621459.2012.713876",
     "abstract": "In this article, we use Google Flu Trends data together with a sequential surveillance model based on state-space methodology to track the evolution of an epidemic process over time. We embed a classical mathematical epidemiology model [a susceptible-exposed-infected-recovered (SEIR) model] within the state-space framework, thereby extending the SEIR dynamics to allow changes through time. The implementation of this model is based on a particle filtering algorithm, which learns about the epidemic process sequentially through time and provides updated estimated odds of a pandemic with each new surveillance data point. We show how our approach, in combination with sequential Bayes factors, can serve as an online diagnostic tool for influenza pandemic. We take a close look at the Google Flu Trends data describing the spread of flu in the United States during 2003–2009 and in nine separate U.S. states chosen to represent a wide range of health care and emergency system strengths and weaknesses. This article has online supplementary materials.",
     "accessed": {
      "day": 12,
      "month": 2,
      "year": 2020
     },
     "author": [
      {
       "family": "Dukic",
       "given": "Vanja"
      },
      {
       "family": "Lopes",
       "given": "Hedibert F."
      },
      {
       "family": "Polson",
       "given": "Nicholas G."
      }
     ],
     "container-title": "Journal of the American Statistical Association",
     "id": "7250895/Z2W7RSNX",
     "issue": "500",
     "issued": {
      "day": 1,
      "month": 12,
      "year": 2012
     },
     "page": "1410-1426",
     "page-first": "1410",
     "title": "Tracking Epidemics With Google Flu Trends Data and a State-Space SEIR Model",
     "type": "article-journal",
     "volume": "107"
    },
    "7250895/Z7SW79RW": {
     "URL": "https://www.restud.com/paper/germs-social-networks-and-growth/",
     "accessed": {
      "day": 25,
      "month": 2,
      "year": 2020
     },
     "id": "7250895/Z7SW79RW",
     "title": "Germs, Social Networks and Growth | The Review of Economic Studies",
     "type": "webpage"
    },
    "7250895/Z9NIJHH4": {
     "URL": "https://academic.oup.com/rfs/article-abstract/33/1/395/5423193?redirectedFrom=fulltext",
     "accessed": {
      "day": 15,
      "month": 2,
      "year": 2020
     },
     "id": "7250895/Z9NIJHH4",
     "title": "Socioeconomic Status and Macroeconomic Expectations | The Review of Financial Studies | Oxford Academic",
     "type": "webpage"
    }
   }
  },
  "kernelspec": {
   "display_name": "Python 3",
   "language": "python",
   "name": "python3"
  },
  "language_info": {
   "codemirror_mode": {
    "name": "ipython",
    "version": 3
   },
   "file_extension": ".py",
   "mimetype": "text/x-python",
   "name": "python",
   "nbconvert_exporter": "python",
   "pygments_lexer": "ipython3",
   "version": "3.7.3"
  },
  "latex_envs": {
   "LaTeX_envs_menu_present": true,
   "autoclose": false,
   "autocomplete": false,
   "bibliofile": "biblio.bib",
   "cite_by": "apalike",
   "current_citInitial": 1,
   "eqLabelWithNumbers": true,
   "eqNumInitial": 1,
   "hotkeys": {
    "equation": "Ctrl-E",
    "itemize": "Ctrl-I"
   },
   "labels_anchors": false,
   "latex_user_defs": false,
   "report_style_numbering": false,
   "user_envs_cfg": false
  }
 },
 "nbformat": 4,
 "nbformat_minor": 2
}
